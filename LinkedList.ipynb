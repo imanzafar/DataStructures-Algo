{
 "cells": [
  {
   "cell_type": "code",
   "execution_count": 71,
   "metadata": {},
   "outputs": [],
   "source": [
    "arr=[10,6,3,1,2,1,8,6,7,11]"
   ]
  },
  {
   "cell_type": "code",
   "execution_count": 76,
   "metadata": {},
   "outputs": [
    {
     "name": "stdout",
     "output_type": "stream",
     "text": [
      "[1, 1, 2, 3, 6, 6, 7, 8, 10, 11]\n"
     ]
    }
   ],
   "source": [
    "def quicksort(arr):\n",
    "    if len(arr)>1:\n",
    "        pivot=arr[len(arr)-1]   # using the last element as pivot\n",
    "        E=[]\n",
    "        L=[]\n",
    "        R=[]\n",
    "        for i in range(len(arr)):\n",
    "            if arr[i]<pivot:\n",
    "                L.append(arr[i])\n",
    "            elif arr[i]>pivot:\n",
    "                R.append(arr[i])  \n",
    "            elif arr[i]==pivot:\n",
    "                E.append(arr[i])\n",
    "        quicksort(L)\n",
    "        quicksort(R)\n",
    "\n",
    "        i=j=k=m=0\n",
    "        while (i<len(L)):\n",
    "            arr[k]=L[i]\n",
    "            i+=1\n",
    "            k+=1\n",
    "        while (m<len(E)):\n",
    "            arr[k]=E[m]\n",
    "            m+=1\n",
    "            k+=1\n",
    "        while (j<len(R)):\n",
    "            arr[k]=R[j]\n",
    "            j+=1\n",
    "            k+=1\n",
    "    return arr\n",
    "   \n",
    "\n",
    "\n",
    "test = quicksort(arr)\n",
    "print(test)\n"
   ]
  },
  {
   "cell_type": "code",
   "execution_count": 79,
   "metadata": {},
   "outputs": [
    {
     "name": "stdout",
     "output_type": "stream",
     "text": [
      "3 6 12 14\n"
     ]
    }
   ],
   "source": [
    "class Node:\n",
    "\n",
    "    def __init__(self, data):\n",
    "\n",
    "        self.left = None\n",
    "        self.right = None\n",
    "        self.data = data\n",
    "\n",
    "    def insert(self, data):\n",
    "# Compare the new value with the parent node\n",
    "        if self.data:\n",
    "            if data < self.data:\n",
    "                if self.left is None:\n",
    "                    self.left = Node(data)\n",
    "                else:\n",
    "                    self.left.insert(data)\n",
    "            elif data > self.data:\n",
    "                if self.right is None:\n",
    "                    self.right = Node(data)\n",
    "                else:\n",
    "                    self.right.insert(data)\n",
    "        else:\n",
    "            self.data = data\n",
    "\n",
    "# Print the tree\n",
    "    def PrintTree(self):\n",
    "        if self.left:\n",
    "            self.left.PrintTree()\n",
    "        print( self.data),\n",
    "        if self.right:\n",
    "            self.right.PrintTree()\n",
    "\n",
    "# Use the insert method to add nodes\n",
    "root = Node(12)\n",
    "root.insert(6)\n",
    "root.insert(14)\n",
    "root.insert(3)\n",
    "\n",
    "root.PrintTree()"
   ]
  },
  {
   "cell_type": "code",
   "execution_count": 78,
   "metadata": {},
   "outputs": [],
   "source": [
    "%run min_heap.py"
   ]
  }
 ],
 "metadata": {
  "kernelspec": {
   "display_name": "Python 2",
   "language": "python",
   "name": "python2"
  },
  "language_info": {
   "codemirror_mode": {
    "name": "ipython",
    "version": 2
   },
   "file_extension": ".py",
   "mimetype": "text/x-python",
   "name": "python",
   "nbconvert_exporter": "python",
   "pygments_lexer": "ipython2",
   "version": "2.7.16"
  }
 },
 "nbformat": 4,
 "nbformat_minor": 2
}
