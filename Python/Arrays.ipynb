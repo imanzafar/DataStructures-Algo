{
 "cells": [
  {
   "cell_type": "code",
   "execution_count": 50,
   "metadata": {},
   "outputs": [],
   "source": [
    "# Practice for array\n",
    "\n",
    "# Sample array\n",
    "arr = ['a', 'b', 'c', 'd']"
   ]
  },
  {
   "cell_type": "code",
   "execution_count": 51,
   "metadata": {},
   "outputs": [],
   "source": [
    "# lookup can be done based on index of an item ---> O(1)\n",
    "arr[2]\n",
    "\n",
    "# Push ONE item to the end ---> O(1)\n",
    "# Note! this can be O(n) for dynamic arrays when computer has to move the array to a new location in memory\n",
    "arr.append('e')\n",
    "\n",
    "# Push SEVERAL items to the end (m) (any iterable) ---> O(n)\n",
    "arr.extend(['d', {2:3}])\n",
    "\n",
    "# Remove the item at the end ---> O(1)\n",
    "arr.pop()\n",
    "\n",
    "# Remove an item based on index ---> O(n)\n",
    "arr.pop(2)\n",
    "\n",
    "# Remove several items based on index ---> O(n)\n",
    "del arr[0:2]\n",
    "\n",
    "# Remove a specific item ---> O(n)\n",
    "arr.remove('d')"
   ]
  },
  {
   "cell_type": "code",
   "execution_count": 64,
   "metadata": {},
   "outputs": [],
   "source": [
    "# Revers a string\n",
    "def reverseString(array):\n",
    "    # Check the input\n",
    "    if array == None or type(array) != str or len(array) < 2:\n",
    "        return 'This function cannot help!'\n",
    "    \n",
    "    reverseArray = ''\n",
    "    # Looping backward on array and create the new reverse array\n",
    "    for i in range(-1, -len(array)-1, -1):\n",
    "        reverseArray += array[i]\n",
    "    \n",
    "    return reverseArray\n"
   ]
  },
  {
   "cell_type": "code",
   "execution_count": 70,
   "metadata": {},
   "outputs": [],
   "source": [
    "# Merge sorted arrays\n",
    "def mergeSorted(array1, array2):\n",
    "    # Check\n",
    "    \n",
    "    # Initialize an empty array to hold items and a counter for each given array\n",
    "    sortedArray = []\n",
    "    i = j = 0;\n",
    "    \n",
    "    # Start with moving smaller items to the new array\n",
    "    while i < len(array1) and j < len(array2):\n",
    "        if array1[i] < array2[j]:\n",
    "            sortedArray.append(array1[i])\n",
    "            i += 1\n",
    "        elif array1[i] > array2[j]:\n",
    "            sortedArray.append(array2[j])\n",
    "            j += 1\n",
    "        else:\n",
    "            sortedArray.append(array1[i])\n",
    "            i += 1\n",
    "            \n",
    "    # Check if anything left in given arrays\n",
    "    if i != 0:\n",
    "        for k in range(i, len(array1)):\n",
    "            sortedArray.append(array1[k])\n",
    "    elif j != 0:\n",
    "        for k in range(j, len(array2)):\n",
    "            sortedArray.append(array2[k])\n",
    "    \n",
    "    return sortedArray\n",
    "         "
   ]
  },
  {
   "cell_type": "code",
   "execution_count": 2,
   "metadata": {},
   "outputs": [],
   "source": [
    "# Lambda function in Python ---> lambda arguments : expression\n",
    "x = 1\n",
    "y = lambda x : x^2\n"
   ]
  },
  {
   "cell_type": "code",
   "execution_count": null,
   "metadata": {},
   "outputs": [],
   "source": []
  }
 ],
 "metadata": {
  "kernelspec": {
   "display_name": "Python 2",
   "language": "python",
   "name": "python2"
  },
  "language_info": {
   "codemirror_mode": {
    "name": "ipython",
    "version": 2
   },
   "file_extension": ".py",
   "mimetype": "text/x-python",
   "name": "python",
   "nbconvert_exporter": "python",
   "pygments_lexer": "ipython2",
   "version": "2.7.16"
  }
 },
 "nbformat": 4,
 "nbformat_minor": 2
}
