{
 "cells": [
  {
   "cell_type": "code",
   "execution_count": 5,
   "metadata": {},
   "outputs": [],
   "source": [
    "# Practice for HashMaps\n",
    "\n",
    "dic = {\n",
    "    'age' : 54,\n",
    "    'name' : 'Tom',\n",
    "    'magic' : True\n",
    "}\n"
   ]
  },
  {
   "cell_type": "code",
   "execution_count": 10,
   "metadata": {},
   "outputs": [
    {
     "data": {
      "text/plain": [
       "'Tom'"
      ]
     },
     "execution_count": 10,
     "metadata": {},
     "output_type": "execute_result"
    }
   ],
   "source": [
    "# Lookup for an item ---> O(1) !!! it can be O(n) due to possible hash collisions\n",
    "dic['name']\n",
    "\n",
    "# Insert an item ---> O(1)\n",
    "dic['language'] = 'English'\n",
    "\n",
    "# Delete an item ---> O(1)\n",
    "dic['name']"
   ]
  },
  {
   "cell_type": "code",
   "execution_count": 22,
   "metadata": {},
   "outputs": [],
   "source": [
    "# First recurring number\n",
    "\n",
    "def firstRecur(array):\n",
    "    # Check\n",
    "    if len(array) < 2:\n",
    "        return 'Not possible'\n",
    "    \n",
    "    # Create a dictionary to hold items that been seen\n",
    "    d  = {}\n",
    "    \n",
    "    for i in range(len(array)):\n",
    "        if array[i] in d:\n",
    "            return array[i]\n",
    "        else:\n",
    "            d[array[i]] = i\n",
    "    return 'No recurrance'\n",
    "    \n",
    "# Analysis:\n",
    "# Time complexity ---> O(n)\n",
    "# Space complexity ---> a dictionary is added \n",
    "# Trade-off: more space complexity but less time by using hash table"
   ]
  },
  {
   "cell_type": "code",
   "execution_count": 21,
   "metadata": {},
   "outputs": [
    {
     "data": {
      "text/plain": [
       "'No recurrance'"
      ]
     },
     "execution_count": 21,
     "metadata": {},
     "output_type": "execute_result"
    }
   ],
   "source": [
    "array = [2, 3, 4, 5, 10]\n",
    "\n",
    "firstRecur(array)"
   ]
  },
  {
   "cell_type": "code",
   "execution_count": null,
   "metadata": {},
   "outputs": [],
   "source": []
  }
 ],
 "metadata": {
  "kernelspec": {
   "display_name": "Python 2",
   "language": "python",
   "name": "python2"
  },
  "language_info": {
   "codemirror_mode": {
    "name": "ipython",
    "version": 2
   },
   "file_extension": ".py",
   "mimetype": "text/x-python",
   "name": "python",
   "nbconvert_exporter": "python",
   "pygments_lexer": "ipython2",
   "version": "2.7.16"
  }
 },
 "nbformat": 4,
 "nbformat_minor": 2
}
